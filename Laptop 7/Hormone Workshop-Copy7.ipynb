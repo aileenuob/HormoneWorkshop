{
 "cells": [
  {
   "cell_type": "code",
   "execution_count": null,
   "id": "1697c3da",
   "metadata": {},
   "outputs": [],
   "source": []
  },
  {
   "cell_type": "markdown",
   "id": "d7456322",
   "metadata": {},
   "source": [
    "# Hormone Workshop\n",
    "\n"
   ]
  },
  {
   "cell_type": "markdown",
   "id": "bfbda325",
   "metadata": {},
   "source": [
    "Today we will look at how computers can help when analysing and comparing large datasets, and can provide extra analysis that we are unable to do by hand.\n",
    "\n",
    "In this workshop we are trying to improve the diagnostic outcome of patients with disease by looking at data from patients, comparing them to a control dataset, and seeing if we can use computers to help us understand the data and pull out significant factors which may not have been obvious previously.\n",
    "\n",
    "By looking at the dataset, we will also consider if there are any other data points which may be useful in diagnosis and how this may reflect on results.\n",
    "\n",
    "In this workshop we will cover:\n",
    "\n",
    "- how to handle datasets\n",
    "- data analysis using python\n",
    "- data visualisation\n",
    "- outliers and anomalies\n",
    "- data classification\n",
    "- considering the effect of data on the results\n",
    "- consider patient outcomes and perspectives\n",
    "- uncertainty and likelihood of disease\n",
    "\n",
    "<span style=\"color:blue\">Look out for the text written in blue, these are tasks you need to complete.\n",
    "    \n",
    " <span style=\"color:blue\">First to make sure everything runs smoothly, lets restart the page by going to **Kernel>Refresh & clear output**.</span>"
   ]
  },
  {
   "cell_type": "markdown",
   "id": "4b2b6294",
   "metadata": {},
   "source": [
    "# Task 1 "
   ]
  },
  {
   "cell_type": "markdown",
   "id": "bcac08b3",
   "metadata": {},
   "source": [
    "You should have already analysed the patient and control datasets using the deck of cards, and made a note of what the key differences were between the two datasets. Imagine if you had to analyse all the data by hand for the whole of the NHS?! That would take far too long.\n",
    "\n",
    "We can use computers to quickly analyse the data and plot graphs so it's presented in a way that's easy to understand.\n",
    "There are many ways to do this, but here we will use Python code...."
   ]
  },
  {
   "cell_type": "markdown",
   "id": "91ed18c8",
   "metadata": {},
   "source": [
    "**Step 1:** <span style=\"color:blue\">Look at the excel spreadsheet labelled \"Participant Data.csv\" which contains all the participant data. It is located on the left hand side, double click to open. Look at the file so you are familiar with what data it includes. </span> \n",
    "\n",
    "This file should contain all the information that you previously saw on the individual cards, for each patient.\n",
    "\n",
    "In the spreadsheet, 0 or 1 are used when there are two choices for an answer, E.g. yes or no, male or female.\n",
    "\n",
    "For this data:\n",
    "\n",
    "Condition: 0 = Control, 1 = Patient\n",
    "\n",
    "Sex: 0 = Female, 1 = Male\n",
    "\n",
    "Smoker: 0 = No, 1 = Yes"
   ]
  },
  {
   "cell_type": "markdown",
   "id": "87e10eab",
   "metadata": {},
   "source": [
    "**Step 2:** Now we are going to plot this data using Python code, so it is easier to visualise and interpret the data using graphs.\n",
    "\n",
    "Whenever we start coding, we have to import certain packages (such as **numpy**, **pandas** and **matplotlib.pyplot**) that allow us to plot graphs. We can also set up some things at the very beginning to save us time later, such as defining the plot colours of the graphs, which is what we have done here in the code below with **plot_color** and **colorplot**.\n",
    "\n",
    "**Run the below section of code. To do this, click on the secition of code so it is highlighted in a green or blue box, then run the code by clicking Shift(⬆) and Enter at the same time...**"
   ]
  },
  {
   "cell_type": "code",
   "execution_count": null,
   "id": "bb7378a2",
   "metadata": {},
   "outputs": [],
   "source": [
    "import numpy as np\n",
    "import pandas as pd\n",
    "import matplotlib\n",
    "import matplotlib.pyplot as plt\n",
    "\n",
    "from colorama import Fore, Back, Style\n",
    "!pip install scikit-learn\n",
    "import sklearn\n",
    "from sklearn.svm import SVC\n",
    "plot_color = np.array([[166, 206, 227], [31, 120, 180], [178, 223, 138], \n",
    "                       [51, 160, 44], [251, 154, 153], [227, 26, 28], \n",
    "                       [253, 191, 111], [255, 127, 0], [202, 178, 214], \n",
    "                       [106, 61, 154]]) / 256\n",
    "colorplot = np.array([[0, 0.4470, 0.7410], [0.8500, 0.3250, 0.0980], \n",
    "                      [0.9290, 0.6940, 0.1250], [0.3010, 0.7450, 0.9330], \n",
    "                      [0.6350, 0.0780, 0.1840]])\n",
    "\n",
    "print(Fore.RED + \"Congratulations! This section has ran successfully!\")"
   ]
  },
  {
   "cell_type": "markdown",
   "id": "519289fb",
   "metadata": {},
   "source": [
    "**Step 3:** To plot the graphs, we need to load in the data file \"Participant Data.csv\" first, and define each column of data within the code.\n",
    "\n",
    "The first line of the code below loads the excel file containing the data.\n",
    "\n",
    "**Task:** <span style=\"color:blue\">Where it says \"ENTER DATA FILE\", insert the name of the excel file containing the data ;  'Participant Data.csv'.</span>\n",
    "\n",
    "Here we are loading in the data from the excel file and labelling each column. Take a minute to look at how we are labelling each column from the spreadsheet, does this make sense to you? If not ask a researcher to explain!\n",
    "\n",
    "**Run this section of code...**\n"
   ]
  },
  {
   "cell_type": "code",
   "execution_count": null,
   "id": "c2683e07",
   "metadata": {},
   "outputs": [],
   "source": [
    "    Participant_data = pd.read_csv('ENTER DATA FILE').to_numpy()\n",
    "\n",
    "#Here we are assigning each column of data a name we can use in the code, where [row:column]\n",
    "#For example; participant = [:, 0] = 1st row in the spreadsheet, where ':' means'all rows'\n",
    "\n",
    "participant = Participant_data[:, 0]\n",
    "condition = Participant_data[:, 1]\n",
    "sex = Participant_data[:, 2]\n",
    "smoker = Participant_data[:, 3]\n",
    "age = Participant_data[:, 4]\n",
    "height = Participant_data[:, 5]\n",
    "BMI = Participant_data[:, 6]\n",
    "hormone = Participant_data[:, 7]\n",
    "\n",
    "print(Fore.RED + \"Congratulations! This section has ran successfully and we have labelled the data!\")"
   ]
  },
  {
   "cell_type": "markdown",
   "id": "d529f5ec",
   "metadata": {},
   "source": [
    "**Step 4:** The next section of code will plot graphs showing the distribution for each column of data:\n",
    "- Male and Female \n",
    "- Smokers\n",
    "- Age \n",
    "- Height\n",
    "- BMI\n",
    "- 8am Hormone\n",
    "\n",
    "Control and patient data will be plotted on the same graph.\n",
    "\n",
    "By using coding we can very quickly plot data and see results way quicker than doing it by hand!\n",
    "\n",
    "**Run this section of code...**\n"
   ]
  },
  {
   "cell_type": "code",
   "execution_count": null,
   "id": "3c506e93",
   "metadata": {},
   "outputs": [],
   "source": [
    "# Count number of controls and patients\n",
    "\n",
    "Controls = np.where(condition == 0)[0]\n",
    "NC = len(Controls)\n",
    "Patients = np.where(condition == 1)[0]\n",
    "NP = len(Patients)\n",
    "\n",
    "# Compare controls and patients\n",
    "plt.figure()\n",
    "plt.gcf().set_facecolor('w')\n",
    "\n",
    "#Plots Sex - Male and Female\n",
    "plt.subplot(2, 3, 1)\n",
    "plt.title('sex')\n",
    "plt.bar(1, len(np.where((condition == 0) & (sex == 0))[0]), color=plot_color[3, :], alpha=0.6)\n",
    "plt.bar(4, len(np.where((condition == 0) & (sex == 1))[0]), color=plot_color[3, :], alpha=0.6)\n",
    "plt.bar(2, len(np.where((condition == 0) & (sex == 0))[0]), color=plot_color[-1, :], alpha=0.6)\n",
    "plt.bar(5, len(np.where((condition == 1) & (sex == 1))[0]), color=plot_color[-1, :], alpha=0.6)\n",
    "plt.xticks([1.5, 4.5], ['Female', 'Male'])\n",
    "plt.ylim([0, 26])\n",
    "plt.ylabel('No. of participants')\n",
    "plt.box(on=True)\n",
    "\n",
    "#Plots smokers\n",
    "plt.subplot(2, 3, 2)\n",
    "plt.title('smoker')\n",
    "plt.bar(1, len(np.where((condition == 0) & (smoker == 1))[0]), color=plot_color[3, :], alpha=0.6)\n",
    "plt.bar(2, len(np.where((condition == 1) & (smoker == 1))[0]), color=plot_color[-1, :], alpha=0.6)\n",
    "plt.ylim([0, 26])\n",
    "plt.ylabel('')\n",
    "plt.box(on=True)\n",
    "\n",
    "#Plots Age\n",
    "plt.subplot(2, 3, 3)\n",
    "plt.title('age')\n",
    "plt.hist(age[Controls], color=plot_color[3, :], bins=np.arange(20, 85, 5), alpha=0.6)\n",
    "plt.hist(age[Patients], color=plot_color[-1, :], bins=np.arange(20, 85, 5), alpha=0.6)\n",
    "plt.ylim([0, 10])\n",
    "plt.ylabel('No. of participants')\n",
    "plt.box(on=True)\n",
    "\n",
    "#Plots Height\n",
    "plt.subplot(2, 3, 4)\n",
    "plt.title('height')\n",
    "plt.hist(height[Controls], color=plot_color[3, :], bins=10, alpha=0.6)\n",
    "plt.hist(height[Patients], color=plot_color[-1, :], bins=10, alpha=0.6)\n",
    "plt.ylim([0, 10])\n",
    "plt.ylabel('No. of participants')\n",
    "plt.box(on=True)\n",
    "\n",
    "#Plots BMI\n",
    "plt.subplot(2, 3, 5)\n",
    "plt.title('BMI')\n",
    "plt.hist(BMI[Controls], color=plot_color[3, :], bins=np.arange(17, 33), alpha=0.6)\n",
    "plt.hist(BMI[Patients], color=plot_color[-1, :], bins=np.arange(17, 33), alpha=0.6)\n",
    "plt.ylim([0, 20])\n",
    "plt.ylabel('No. of participants')\n",
    "plt.box(on=True)\n",
    "\n",
    "#Plots 8am Hormone\n",
    "plt.subplot(2, 3, 6)\n",
    "plt.title('')\n",
    "hC, _, _ = plt.hist(hormone[Controls], color=plot_color[3, :], bins=np.arange(0, 301, 20), alpha=0.6)\n",
    "hP, _, _ = plt.hist(hormone[Patients], color=plot_color[-1, :], bins=np.arange(0, 301, 20), alpha=0.6)\n",
    "plt.ylim([0, 15])\n",
    "plt.ylabel('No. of participants')\n",
    "plt.box(on=True)\n",
    "\n",
    "#Plots legend showing the control and patient colours\n",
    "a = plt.axes([0, 0, 1, 1], visible= False)\n",
    "plt.tight_layout()\n",
    "\n",
    "#plt.legend([, ['Controls', 'Patients'], loc='upper center', frameon=False)\n",
    "\n",
    "#Shows all graphs\n",
    "plt.show()\n",
    "\n"
   ]
  },
  {
   "cell_type": "markdown",
   "id": "c483ad66",
   "metadata": {},
   "source": [
    "**Step 5:** Congratulations! You've just plotted all the participants data ready for analysis!\n",
    "\n",
    "However, it looks like some of the labels might be missing (axis and title).\n",
    "\n",
    "**Task:** <span style=\"color:blue\">Go back to the code and look at how we are plotting the graphs, and what each line of code is doing. One of the researchers can help you go through how this works and what this means. Can you identify what you think is missing and add in the axis labels?</span>\n"
   ]
  },
  {
   "cell_type": "markdown",
   "id": "fac3ef28",
   "metadata": {},
   "source": [
    "**Step 6:** By plotting graphs, we can visualise the data and easily see that the biggest differences between the control and patient groups are in **BMI** and **8am hormone**.\n",
    "\n",
    "Okay, now we know this. But if we look closer at this data can we learn more? \n",
    "Are BMI and 8am hormone related in any way? Do they influence each other? Can we learn something that we couldn't see previously?\n",
    "\n",
    "If we plot **BMI** v **8am hormone**, maybe we can find out.\n",
    "\n",
    "**Run this section of code...**\n"
   ]
  },
  {
   "cell_type": "code",
   "execution_count": null,
   "id": "d2efc759",
   "metadata": {},
   "outputs": [],
   "source": [
    "#Plot BMI v 8am hormone \n",
    "plt.figure()\n",
    "plt.gca().set_facecolor('w')\n",
    "hC1 = plt.plot(BMI[Controls], hormone[Controls], 'o', markersize=10, \n",
    "                markerfacecolor=plot_color[3], markeredgecolor='w')\n",
    "#hP1 = \n",
    "plt.xlabel('BMI')\n",
    "plt.ylabel('8am hormone')\n",
    "plt.box(True)\n",
    "\n",
    "plt.legend([hC1[0], hP1[0]], ['Controls', 'Patients'], \n",
    "           loc='upper center', bbox_to_anchor=(0.5, 1.15), \n",
    "           ncol=2, frameon=False)\n",
    "plt.show()\n",
    "\n"
   ]
  },
  {
   "cell_type": "markdown",
   "id": "7c4387bd",
   "metadata": {},
   "source": [
    "Great, you plotted the graph! But it looks like only the control data is being plotted.\n",
    "\n",
    "**Task:**<span style=\"color:blue\"> You need to plot the patient data on this scatter graph.</span>\n",
    "\n",
    "<span style=\"color:blue\">Go back to the section of code above. 'hC1' plots the control data. 'hP1' is the patient data.\n",
    "\n",
    "<span style=\"color:blue\">To plot the patient data, you need to add in the information to hP1 = plt.plot( , , , , , ), so it looks like hC1, where each bit of information means:\n",
    "\n",
    "<span style=\"color:blue\">plt.plot(x data, y data, shape of data point, size of data point, colour of data point, colour of the edge of data point)\n",
    "\n",
    "<span style=\"color:blue\">(The colour purple is the number '-1')</span>"
   ]
  },
  {
   "cell_type": "markdown",
   "id": "81a9ebe6",
   "metadata": {},
   "source": [
    "**Step 7:** Now you have plotted the patient data, what do you think this plot shows? How would you describe the data? Are the clusters distinct? Would you confidently be able to say a participant has the disease or not? Discuss this with the class and see how we could improve the plot."
   ]
  },
  {
   "cell_type": "markdown",
   "id": "8e7f9a2c",
   "metadata": {},
   "source": [
    "# Task 2"
   ]
  },
  {
   "cell_type": "markdown",
   "id": "6046819c",
   "metadata": {},
   "source": [
    "In this task we will look at what steps we can take to improve the outcomes of the analysis, so we can confidently distinguish between control and patients, so Doctors may use this information when deciding if a patient might have the disease or not.\n",
    "\n",
    "One step we can take is to improve the actual data we have.\n",
    "\n",
    "BMI is a fixed value, and while a persons weight may change over weeks or months, it won't change in the short term.\n",
    "However, the hormone value was taken at 8am, but hormones levels change over the course of the day, so the value at 8am may not be representative of the patients actual hormone levels.\n",
    "\n",
    "**In this case we can improve our data by looking at the hormone levels over 24 hours, rather than at one time point.**"
   ]
  },
  {
   "cell_type": "markdown",
   "id": "e16b80e1",
   "metadata": {},
   "source": [
    "**Step 8:** We will pick 4 examples to look at: 2 'normal' data points, and 2 outliers.\n",
    "Outliers are data points that look very different from the rest of the data points in that group. They might have a much higher or lower value, so look very different on a graph.\n",
    "\n",
    "Run the code below to see which data points we will use, and what their 8am hormone values are.\n",
    "\n",
    "**Run this section of code...**"
   ]
  },
  {
   "cell_type": "code",
   "execution_count": null,
   "id": "ed8f80fa",
   "metadata": {},
   "outputs": [],
   "source": [
    "profiles = pd.read_csv('Hormone_profiles.csv').to_numpy()\n",
    "partC = [17, 9];\n",
    "partP = [52, 56];  # partP = [50, 71]\n",
    "\n",
    "plt.figure()\n",
    "plt.gcf().set_facecolor('w')\n",
    "\n",
    "hC1 = plt.plot(BMI[Controls], hormone[Controls], 'o', markersize=10, markerfacecolor=plot_color[3, :], markeredgecolor='w')\n",
    "hP1 = plt.plot(BMI[Patients], hormone[Patients], 'o', markersize=10, markerfacecolor=plot_color[-1, :], markeredgecolor='w')\n",
    "\n",
    "sel = partC + partP\n",
    "\n",
    "plt.plot(BMI[partC[0]], hormone[partC[0]], 's', markersize=15,  markerfacecolor=\"None\" , markeredgecolor=colorplot[0, :], linewidth=2.5)\n",
    "plt.plot(BMI[partC[1]], hormone[partC[1]], 's', markersize=15,  markerfacecolor=\"None\", markeredgecolor=colorplot[1, :], linewidth=2.5)\n",
    "plt.plot(BMI[partP[0]], hormone[partP[0]], 's', markersize=15,  markerfacecolor=\"None\", markeredgecolor=colorplot[2, :], linewidth=2.5)\n",
    "plt.plot(BMI[partP[1]], hormone[partP[1]], 's', markersize=15,  markerfacecolor=\"None\", markeredgecolor=colorplot[3, :], linewidth=2.5)\n",
    "\n",
    "plt.xlabel('BMI')\n",
    "plt.ylabel('8am hormone')\n",
    "plt.box(True)\n",
    "print(\"8am hormone values:\")\n",
    "print(\"Control 1  = \", hormone[partC[0]])\n",
    "print(\"Control 2  = \", hormone[partC[1]])\n",
    "print(\"Patient 1  = \", hormone[partP[0]])\n",
    "print(\"Patient 2  = \", hormone[partP[1]])"
   ]
  },
  {
   "cell_type": "markdown",
   "id": "110e75c5",
   "metadata": {},
   "source": [
    "We have highlighted which data point we wil look at and what their 8am hormone values are.\n",
    "Take a look at the 8am hormone values for Control 1 & 2 and Patient 1 & 2, which are higher?\n",
    "\n",
    "**Step 9:** We will now plot the 24 hour hormone profiles for the 4 data points.\n",
    "\n",
    "**Run this section of code...**"
   ]
  },
  {
   "cell_type": "code",
   "execution_count": null,
   "id": "51a7e001",
   "metadata": {},
   "outputs": [],
   "source": [
    "plt.figure()\n",
    "\n",
    "plt.subplot(2, 2, 1)\n",
    "\n",
    "plt.title('Control 1')\n",
    "plt.plot(profiles[partC[0], :], linewidth=1, color=colorplot[0, :])\n",
    "plt.plot(8, profiles[partC[0], 8], 's', markersize=10, markerfacecolor='r', markeredgecolor='r')\n",
    "plt.xlim([1, 24])\n",
    "plt.xticks([0, 4, 8, 12, 16, 20 , 24]) \n",
    "plt.xlabel('Time (hour)')\n",
    "plt.ylim([0, 300])\n",
    "plt.ylabel('Hormone profile ')\n",
    "plt.box(True)\n",
    "\n",
    "plt.subplot(2, 2, 2)\n",
    "\n",
    "plt.title('Patient 1')\n",
    "plt.plot(profiles[partP[0], :], linewidth=1, color=colorplot[2, :])\n",
    "plt.plot(8, profiles[partP[0], 8], 's', markersize=10, markerfacecolor='r', markeredgecolor='r')\n",
    "plt.xlim([1, 24])\n",
    "plt.xticks([0, 4, 8, 12, 16, 20 , 24]) \n",
    "plt.xlabel('Time (hour)')\n",
    "plt.ylim([0, 300])\n",
    "plt.ylabel('Hormone profile ')\n",
    "plt.box(True)\n",
    "\n",
    "plt.subplot(2, 2, 3)\n",
    "\n",
    "plt.title('Control 2')\n",
    "plt.plot(profiles[partC[1], :], linewidth=1, color=colorplot[1, :])\n",
    "plt.plot(8, profiles[partC[1], 8], 's', markersize=10, markerfacecolor='r', markeredgecolor='r')\n",
    "plt.xlim([1, 24])\n",
    "plt.xticks([0, 4, 8, 12, 16, 20 , 24]) \n",
    "plt.xlabel('Time (hour)')\n",
    "plt.ylim([0, 300])\n",
    "plt.ylabel('Hormone profile')\n",
    "plt.box(True)\n",
    "\n",
    "plt.subplot(2, 2, 4)\n",
    "\n",
    "plt.title('Patient 2')\n",
    "plt.plot(profiles[partP[1], :], linewidth=1, color=colorplot[3, :])\n",
    "plt.plot(8, profiles[partP[1], 8], 's', markersize=10, markerfacecolor='r', markeredgecolor='r')\n",
    "plt.xlim([1, 24])\n",
    "plt.xticks([0, 4, 8, 12, 16, 20 , 24]) \n",
    "plt.xlabel('Time (hour)')\n",
    "plt.ylim([0, 300])\n",
    "plt.ylabel('Hormone profile ')\n",
    "plt.box(True)\n",
    "plt.tight_layout()\n",
    "#plt.legend([hC1, hP1], ['Controls', 'Patients'], orientation='horizontal', bbox_to_anchor=(0.5, 1.05), loc='upper center', frameon=False)\n",
    "plt.show()\n",
    "\n"
   ]
  },
  {
   "cell_type": "markdown",
   "id": "ef9661f2",
   "metadata": {},
   "source": [
    "**Step 10:** <span style=\"color:blue\">Look at these 24 hour hormone profiles for the Control and Patients. What do they tell you? Compare them to each other. Discuss with the class what this might mean. </span>\n"
   ]
  },
  {
   "cell_type": "markdown",
   "id": "bc996005",
   "metadata": {},
   "source": [
    "# Task 3\n"
   ]
  },
  {
   "cell_type": "markdown",
   "id": "1fff317d",
   "metadata": {},
   "source": [
    "Now we have plotted the individual 24 hour hormone profiles for these 4 idividuals we want to compare each hormone profile in a reliable way, rather than just looking at the graphs and comparing visually.\n",
    "\n",
    "To do this we can look at what the **total hormone level** is over the whole day. This means adding up all of the data points over the 24 hours. So adding the value at 8am, 9am, 10am etc....\n",
    "\n",
    "This process is also know as finding the **Area Under the Curve**.\n",
    "\n",
    "**Step 11:**  Lets go through an example by hand first.\n",
    "\n",
    "**Task:** <span style=\"color:blue\">You will be given a worksheet titled **\"Area Under the Curve\"**. Use this sheet to calculate the total 24hr hormone value for Control 1. Once you have completed the sheet, move onto the next Task. </span>\n",
    "\n",
    "\n",
    "**Task:**<span style=\"color:blue\"> The code below calculates the total hormone value for each graph.\n",
    "    \n",
    "<span style=\"color:blue\">To see what the values are, add this line of code to underneath the code below: **print(\"Total 24hr hormone value for Control 1 =\", AUC_partC1)**</span>\n",
    " \n",
    "<span style=\"color:blue\">Repeat this for all values. Remember to change the text and label so it prints the correct statement for Control 1, Control 2, Patient 1, and Patient 2.</span>\n",
    "    \n",
    " **Run this section of code...**"
   ]
  },
  {
   "cell_type": "code",
   "execution_count": null,
   "id": "4da6d9b0",
   "metadata": {},
   "outputs": [],
   "source": [
    "AUC_partC1 = np.trapz(profiles[partC[0], 1:])  \n",
    "AUC_partC2 = np.trapz(profiles[partC[1], 1:])  \n",
    "AUC_partP1 = np.trapz(profiles[partP[0], 1:])  \n",
    "AUC_partP2 = np.trapz(profiles[partP[1], 1:])  \n",
    "\n"
   ]
  },
  {
   "cell_type": "markdown",
   "id": "2f970af0",
   "metadata": {},
   "source": [
    "**Step 12:** The original 8am hormone values were:\n",
    "\n",
    "Control 1  =  27.13\n",
    "\n",
    "Control 2  =  80.09\n",
    "\n",
    "Patient 1  =  140.62\n",
    "\n",
    "Patient 2  =  137.54 \n",
    "\n",
    "<span style=\"color:blue\">How do the 24hr values compare to the 8am values? Do they show the same patterns? Is one value still higher than the other or have they switched? Can we learn anything from this?</span>"
   ]
  },
  {
   "cell_type": "markdown",
   "id": "2e162a11",
   "metadata": {},
   "source": [
    "**Step 13:** As we have now shown that looking at the 24hr hormone profile for these 4 individuals may change how the data is presented, we now want to know the total 24hr hormone values for **all** control and patient data points. Then we can replot the **BMI** v **hormone** graph with the 24hr hormone values instead of the 8am hormone values, and see if we are able to better seperate the control and patient clusters.\n",
    "\n",
    "\n",
    "**Task:** <span style=\"color:blue\">To find the total 24hr hormone value for each data point, we can do this all at once with some code rather than calculating the total hormone profile individually (like we did for the 4 individuals).\n",
    "    \n",
    "<span style=\"color:blue\">To do this, add this line of code to the beginning of the block of code below:\n",
    "\n",
    "<span style=\"color:blue\">**\"AUC = np.sum(profiles, axis=1)**\"</span>\n",
    "\n",
    "**Run this section of code...**"
   ]
  },
  {
   "cell_type": "code",
   "execution_count": null,
   "id": "5aa26ae4",
   "metadata": {},
   "outputs": [],
   "source": [
    "\n",
    "\n",
    "plt.figure()\n",
    "plt.gca().set_facecolor('w')\n",
    "hC2 = plt.plot(BMI[Controls], AUC[Controls], 'o', markersize=10, markerfacecolor=plot_color[3, :], markeredgecolor='w')\n",
    "hP2 = plt.plot(BMI[Patients], AUC[Patients], 'o', markersize=10, markerfacecolor=plot_color[-1, :], markeredgecolor='w')\n",
    "plt.xlabel('BMI')\n",
    "plt.ylabel('AUC')\n",
    "\n",
    "for i in range(len(sel)):\n",
    "    plt.plot(BMI[sel[i]], AUC[sel[i]], 's', markersize=15,markerfacecolor=\"None\", markeredgecolor=colorplot[i, :], linewidth=2.5)\n",
    "\n",
    "plt.box(True)\n",
    "#plt.legend([hC2[0], hP2[0]], ['Controls', 'Patients'], loc='northoutside', ncol=2, frameon=False)\n",
    "plt.show()\n",
    "\n"
   ]
  },
  {
   "cell_type": "markdown",
   "id": "46da5a06",
   "metadata": {},
   "source": [
    "**Step 13:** <span style=\"color:blue\">How does this graph compare to the original graph we plotted in **Task 2 , Step 8**? What are the benefits of using the 24hr hormones values over the 8am values? </span> "
   ]
  },
  {
   "cell_type": "markdown",
   "id": "94b07a30",
   "metadata": {},
   "source": [
    "# Task 4\n"
   ]
  },
  {
   "cell_type": "markdown",
   "id": "ae03931a",
   "metadata": {},
   "source": [
    "Now we have been able to show the distinct cluster of control participants and patients, it's time to test how confident we feel about our results with 2 unknown participants. Will we be able to confidently identify if they are either a control or a patient?\n",
    "\n",
    "**Step 14:** We will run this next section of code to see what the new participants hormone profiles look like, and where they sit on the graph. \n",
    "\n",
    "**Task:** <span style=\"color:blue\">In this task you need to load in the data file and assign the correct BMI column to \"New_BMI\" and hormone columns to \"New_profile\".\n",
    "\n",
    "- <span style=\"color:blue\">Add in the data file for the new individuals \"New_individuals.csv\"\n",
    "- <span style=\"color:blue\"> Open the New_Individuals.csv file and identify which column is BMI and which columns are hormones. \n",
    "- <span style=\"color:blue\">Label the BMI column: New_BMI = New_individuals[  ,  ] (Remember, [rows:columns], and in Python the first number is always 0!)\n",
    "- <span style=\"color:blue\"> Label the hormone columns: New_profile = New_individuals[  ,  ]\n",
    "- <span style=\"color:blue\">Hint: If you want **all** rows or **all** columns there is a special way to write this. Can you remember? If not have a look at preious blocks of code, or ask for help!\n",
    "\n",
    "\n",
    "Then **Run this section of code...**"
   ]
  },
  {
   "cell_type": "code",
   "execution_count": null,
   "id": "ab92871f",
   "metadata": {
    "scrolled": false
   },
   "outputs": [],
   "source": [
    "\n",
    "New_individuals = pd.read_csv('').to_numpy()\n",
    "\n",
    "New_BMI = \n",
    "New_profile = \n",
    "New_AUC = New_profile.sum(axis=1)\n",
    "\n",
    "plt.figure()\n",
    "plt.gcf().set_facecolor('w')\n",
    "\n",
    "plt.subplot(1, 2, 1)\n",
    "plt.plot(New_profile[0, :], linewidth=1, color=colorplot[0, :])\n",
    "plt.plot(New_profile[1, :], linewidth=1, color=colorplot[1, :])\n",
    "plt.xlim([1, 24])\n",
    "plt.xlabel('Time (hour)')\n",
    "plt.ylim([0, 150])\n",
    "plt.ylabel('Hormone profile (muM)')\n",
    "plt.box(True)\n",
    "\n",
    "plt.subplot(1, 2, 2)\n",
    "hC1 = plt.plot(BMI[Controls], AUC[Controls], 'o', markersize=10, markerfacecolor=plot_color[3, :], markeredgecolor='w')\n",
    "hP1 = plt.plot(BMI[Patients], AUC[Patients], 'o', markersize=10, markerfacecolor=plot_color[-1, :], markeredgecolor='w')\n",
    "plt.plot(New_BMI[0], New_AUC[0], 's', markersize=15, markerfacecolor=colorplot[0, :], markeredgecolor=colorplot[0, :], linewidth=2.5)\n",
    "plt.plot(New_BMI[1], New_AUC[1], 's', markersize=15, markerfacecolor=colorplot[1, :], markeredgecolor=colorplot[1, :], linewidth=2.5)\n",
    "plt.xlabel('BMI')\n",
    "plt.ylabel('AUC')\n",
    "plt.box(True)\n",
    "plt.tight_layout()\n",
    "plt.show()"
   ]
  },
  {
   "cell_type": "markdown",
   "id": "241d2b58",
   "metadata": {},
   "source": [
    "Congratulations! You've now plotted the 24hr hormone profiles for the 2 new individuals, and we can see where they sit on the graph.\n",
    "\n",
    "**Step 15:** <span style=\"color:blue\">Looking at the hormone profiles of the 2 new individuals and where they sit on the graph, would you confidently be able to say if they are a control or patient? Discuss this with the class. </span>"
   ]
  },
  {
   "cell_type": "markdown",
   "id": "ac881bb7",
   "metadata": {},
   "source": [
    "# Task 5"
   ]
  },
  {
   "cell_type": "markdown",
   "id": "5ccc7042",
   "metadata": {},
   "source": [
    "To help us confidently decide if these new individuals are either control or patients, we need a way to competely separate the two clusters...by drawing a line between the two that acts as a boundary. Anything above the line is patient, anything below the line is control.\n",
    "\n",
    "But we can't just draw a line based on nothing. We can use a clever computer algorithm that draws a line based on the data, so we know the line is the most accurate and representative boundary based on our data.\n",
    "\n",
    "This algorithm is called a **Support Vector Machine**\n",
    "\n",
    "**Run the section of code below...**"
   ]
  },
  {
   "cell_type": "code",
   "execution_count": null,
   "id": "309aabdb",
   "metadata": {
    "scrolled": true
   },
   "outputs": [],
   "source": [
    "%matplotlib notebook\n",
    "# Assuming BMI, AUC, condition, Controls, Patients, plot_color, New_BMI, New_AUC, colorplot are defined\n",
    "\n",
    "# Fit SVM model\n",
    "SVMModel = SVC(kernel='linear').fit(np.column_stack((BMI, AUC)), condition)\n",
    "sv = SVMModel.support_vectors_\n",
    "beta = SVMModel.coef_[0]\n",
    "b = SVMModel.intercept_[0]\n",
    "\n",
    "X1 = np.linspace(np.min(BMI), np.max(BMI), 100)\n",
    "X2 = -(beta[0] / beta[1] * X1) - b / beta[1]\n",
    "\n",
    "plt.figure()\n",
    "plt.gca().set_facecolor('w')\n",
    "hC4 = plt.plot(BMI[Controls], AUC[Controls], 'o', markersize=10, \n",
    "               markerfacecolor=plot_color[3, :], markeredgecolor='w')\n",
    "hP4 = plt.plot(BMI[Patients], AUC[Patients], 'o', markersize=10, \n",
    "               markerfacecolor=plot_color[-1, :], markeredgecolor='w')\n",
    "plt.plot(X1, X2, '-', linewidth=2, color='k')\n",
    "plt.plot(New_BMI[0], New_AUC[0], 's', markersize=15, \n",
    "         markerfacecolor=colorplot[0, :], markeredgecolor=colorplot[0, :], linewidth=2.5)\n",
    "plt.plot(New_BMI[1], New_AUC[1], 's', markersize=15, \n",
    "         markerfacecolor=colorplot[1, :], markeredgecolor=colorplot[1, :], linewidth=2.5)\n",
    "\n",
    "plt.xlabel('BMI')\n",
    "plt.ylabel('AUC')\n",
    "plt.box(True)\n",
    "\n",
    "plt.show()"
   ]
  },
  {
   "cell_type": "markdown",
   "id": "9e963cf4",
   "metadata": {},
   "source": [
    "We can now see the line dividing the two clusters. You can zoom in to see if the data points are above or below the line by clicking the square button at the bottom of the graph which sits between the arrows and the save button, then drawing a square over the area you want to zoom in on. \n",
    "\n",
    "**Step 16:** <span style=\"color:blue\"> Now we have used the SVM algorithm to separate the clusters with a line, are you now able to confidently say whether these 2 individuals are a control participant or patient?</span>"
   ]
  },
  {
   "cell_type": "markdown",
   "id": "16c5c225",
   "metadata": {},
   "source": [
    "Congratulations!! You have now completed this workshop!\n",
    "\n",
    "You have successfully:\n",
    "- analysed a large dataset\n",
    "- had experience coding\n",
    "- visualised the data\n",
    "- interpreted the data\n",
    "- used this to inform decisions about future patients\n",
    "\n",
    "The work you have completed is what real world data analysts, data scientists, and researchers are doing! This has a massive impact on patients and their experience with disease.  You're making a real impact!\n"
   ]
  },
  {
   "cell_type": "code",
   "execution_count": null,
   "id": "1adda6c2",
   "metadata": {},
   "outputs": [],
   "source": []
  },
  {
   "cell_type": "code",
   "execution_count": null,
   "id": "14c6e972",
   "metadata": {},
   "outputs": [],
   "source": []
  },
  {
   "cell_type": "code",
   "execution_count": null,
   "id": "62df690c",
   "metadata": {},
   "outputs": [],
   "source": []
  },
  {
   "cell_type": "code",
   "execution_count": null,
   "id": "0c16ae89",
   "metadata": {},
   "outputs": [],
   "source": []
  }
 ],
 "metadata": {
  "kernelspec": {
   "display_name": "Python 3 (ipykernel)",
   "language": "python",
   "name": "python3"
  },
  "language_info": {
   "codemirror_mode": {
    "name": "ipython",
    "version": 3
   },
   "file_extension": ".py",
   "mimetype": "text/x-python",
   "name": "python",
   "nbconvert_exporter": "python",
   "pygments_lexer": "ipython3",
   "version": "3.10.11"
  }
 },
 "nbformat": 4,
 "nbformat_minor": 5
}
