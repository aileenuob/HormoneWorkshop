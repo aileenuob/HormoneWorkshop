{
 "cells": [
  {
   "cell_type": "code",
   "execution_count": null,
   "id": "1697c3da",
   "metadata": {},
   "outputs": [],
   "source": []
  },
  {
   "cell_type": "markdown",
   "id": "d7456322",
   "metadata": {},
   "source": [
    "# Hormone Workshop\n",
    "\n"
   ]
  },
  {
   "cell_type": "markdown",
   "id": "bfbda325",
   "metadata": {},
   "source": [
    "Today we will look at how computers can help when analysing and comparing large datasets, and can provide extra analysis that we are unable to do by hand.\n",
    "\n",
    "In this workshop we are trying to improve the diagnostic outcome of patients with disease by looking at data from patients, comparing them to a control dataset, and seeing if we can use computers to help us understand the data and pull out significant factors which may not have been obvious previously.\n",
    "\n",
    "By looking at the dataset, we will also consider if there are any other data points which may be useful in diagnosis and how this may reflect on results.\n",
    "\n",
    "In this workshop we will cover:\n",
    "\n",
    "- how to handle datasets\n",
    "- data analysis using python\n",
    "- data visualisation\n",
    "- outliers and anomalies\n",
    "- data classification\n",
    "- considering the effect of data on the results\n",
    "- consider patient outcomes and perspectives\n",
    "- uncertainty and likelihood of disease"
   ]
  },
  {
   "cell_type": "markdown",
   "id": "4b2b6294",
   "metadata": {},
   "source": [
    "# Task 1 "
   ]
  },
  {
   "cell_type": "markdown",
   "id": "bcac08b3",
   "metadata": {},
   "source": [
    "You should have already analysed the patient and control datasets using the deck of cards, and made a note of what the key differences were between the two datasets. Imagine if you had to analyse all the data by hand for the whole of the NHS?! That would take far too long.\n",
    "\n",
    "We can use computers to quickly analyse the data and plot graphs so it's presented in a way that's easy to understand.\n",
    "There are many ways to do this, but here we will use Python code...."
   ]
  },
  {
   "cell_type": "markdown",
   "id": "91ed18c8",
   "metadata": {},
   "source": [
    "**Step 1:** Look at the excel spreadsheet which contains all the participant data, so you are familiar with what it looks like. It should already be open in your browser.\n",
    "\n",
    "This file should contain all the information that you previously saw on the individual cards, for each patient."
   ]
  },
  {
   "cell_type": "markdown",
   "id": "b3de3a8e",
   "metadata": {},
   "source": [
    "**Step 2:** Now we are going to plot this data using Python code, so it is easier to visualise and interpret the data using graphs.\n",
    "\n",
    "Whenever we start coding, we have to import certain packages that allow us to plot graphs such as **numpy**, **pandas** and **matplotlib.pyplot**. We can also set up some things at the very beginning to save us time later, such as defining the plot colours of the graphs, which is what we have done here in the code below with **plot_color** and **colorplot**.\n",
    "\n",
    "**Run the below section of code by clicking Shift and Enter at the same time...**"
   ]
  },
  {
   "cell_type": "code",
   "execution_count": null,
   "id": "bb7378a2",
   "metadata": {},
   "outputs": [],
   "source": [
    "import numpy as np\n",
    "import pandas as pd\n",
    "import matplotlib\n",
    "import matplotlib.pyplot as plt\n",
    "\n",
    "!pip install scikit-learn\n",
    "import sklearn\n",
    "from sklearn.svm import SVC\n",
    "plot_color = np.array([[166, 206, 227], [31, 120, 180], [178, 223, 138], \n",
    "                       [51, 160, 44], [251, 154, 153], [227, 26, 28], \n",
    "                       [253, 191, 111], [255, 127, 0], [202, 178, 214], \n",
    "                       [106, 61, 154]]) / 256\n",
    "colorplot = np.array([[0, 0.4470, 0.7410], [0.8500, 0.3250, 0.0980], \n",
    "                      [0.9290, 0.6940, 0.1250], [0.3010, 0.7450, 0.9330], \n",
    "                      [0.6350, 0.0780, 0.1840]])"
   ]
  },
  {
   "cell_type": "markdown",
   "id": "519289fb",
   "metadata": {},
   "source": [
    "**Step 3:** To plot the graphs, we need to load in the data file \"Participant Data.csv\" first, and define each column of data within the code.\n",
    "\n",
    "The first line of the code below loads the excel file containing the data.\n",
    "\n",
    "->>> Where it says \"ENTER DATA FILE\", insert the name of the excel file containing the data ('Participant Data.csv').\n",
    "Look at how we have assigned the data from the spreadsheet to a corresponding name.\n",
    "\n",
    "**Run this section of code...**\n"
   ]
  },
  {
   "cell_type": "code",
   "execution_count": null,
   "id": "c2683e07",
   "metadata": {},
   "outputs": [],
   "source": [
    "Participant_data = pd.read_csv('ENTER DATA FILE').to_numpy()\n",
    "\n",
    "#Here we are assigning each column of data a name we can use in the code, where [row:column]\n",
    "#For example; participant = [:, 0] = 1st row in the spreadsheet, where ':' means'all rows'\n",
    "\n",
    "participant = Participant_data[:, 0]\n",
    "condition = Participant_data[:, 1]\n",
    "sex = Participant_data[:, 2]\n",
    "smoker = Participant_data[:, 3]\n",
    "age = Participant_data[:, 4]\n",
    "height = Participant_data[:, 5]\n",
    "BMI = Participant_data[:, 6]\n",
    "hormone = Participant_data[:, 7]"
   ]
  },
  {
   "cell_type": "markdown",
   "id": "d529f5ec",
   "metadata": {},
   "source": [
    "**Step 4:** The next section of code will plot histograms showing the distribution for each column of data:\n",
    "- Male and Female \n",
    "- Smokers\n",
    "- Age \n",
    "- Height\n",
    "- BMI\n",
    "- 8am Hormone\n",
    "\n",
    "Control and patient data will be plotted on the same graph.\n",
    "\n",
    "By using coding we can very quickly plot data and see results! Way quicker than doing it by hand!\n",
    "\n",
    "**Run this section of code...**\n"
   ]
  },
  {
   "cell_type": "code",
   "execution_count": null,
   "id": "3c506e93",
   "metadata": {},
   "outputs": [],
   "source": [
    "# Count number of controls and patients\n",
    "Controls = np.where(condition == 0)[0]\n",
    "NC = len(Controls)\n",
    "Patients = np.where(condition == 1)[0]\n",
    "NP = len(Patients)\n",
    "\n",
    "# Compare controls and patients\n",
    "plt.figure()\n",
    "plt.gcf().set_facecolor('w')\n",
    "\n",
    "#Plots Sex - Male and Female\n",
    "plt.subplot(2, 3, 1)\n",
    "plt.title('sex')\n",
    "plt.bar(1, len(np.where((condition == 0) & (sex == 0))[0]), color=plot_color[3, :], alpha=0.6)\n",
    "plt.bar(4, len(np.where((condition == 0) & (sex == 1))[0]), color=plot_color[3, :], alpha=0.6)\n",
    "plt.bar(2, len(np.where((condition == 0) & (sex == 0))[0]), color=plot_color[-1, :], alpha=0.6)\n",
    "plt.bar(5, len(np.where((condition == 1) & (sex == 1))[0]), color=plot_color[-1, :], alpha=0.6)\n",
    "plt.xticks([1.5, 4.5], ['Female', 'Male'])\n",
    "plt.ylim([0, 26])\n",
    "plt.ylabel('No. of participants')\n",
    "plt.box(on=True)\n",
    "\n",
    "#Plots smokers\n",
    "plt.subplot(2, 3, 2)\n",
    "plt.title('smoker')\n",
    "plt.bar(1, len(np.where((condition == 0) & (smoker == 1))[0]), color=plot_color[3, :], alpha=0.6)\n",
    "plt.bar(2, len(np.where((condition == 1) & (smoker == 1))[0]), color=plot_color[-1, :], alpha=0.6)\n",
    "plt.ylim([0, 26])\n",
    "plt.ylabel('')\n",
    "plt.box(on=True)\n",
    "\n",
    "#Plots Age\n",
    "plt.subplot(2, 3, 3)\n",
    "plt.title('age')\n",
    "plt.hist(age[Controls], color=plot_color[3, :], bins=np.arange(20, 85, 5), alpha=0.6)\n",
    "plt.hist(age[Patients], color=plot_color[-1, :], bins=np.arange(20, 85, 5), alpha=0.6)\n",
    "plt.ylim([0, 10])\n",
    "plt.ylabel('No. of participants')\n",
    "plt.box(on=True)\n",
    "\n",
    "#Plots Height\n",
    "plt.subplot(2, 3, 4)\n",
    "plt.title('height')\n",
    "plt.hist(height[Controls], color=plot_color[3, :], bins=10, alpha=0.6)\n",
    "plt.hist(height[Patients], color=plot_color[-1, :], bins=10, alpha=0.6)\n",
    "plt.ylim([0, 10])\n",
    "plt.ylabel('No. of participants')\n",
    "plt.box(on=True)\n",
    "\n",
    "#Plots BMI\n",
    "plt.subplot(2, 3, 5)\n",
    "plt.title('BMI')\n",
    "plt.hist(BMI[Controls], color=plot_color[3, :], bins=np.arange(17, 33), alpha=0.6)\n",
    "plt.hist(BMI[Patients], color=plot_color[-1, :], bins=np.arange(17, 33), alpha=0.6)\n",
    "plt.ylim([0, 20])\n",
    "plt.ylabel('No. of participants')\n",
    "plt.box(on=True)\n",
    "\n",
    "#Plots 8am Hormone\n",
    "plt.subplot(2, 3, 6)\n",
    "plt.title('')\n",
    "hC, _, _ = plt.hist(hormone[Controls], color=plot_color[3, :], bins=np.arange(0, 301, 20), alpha=0.6)\n",
    "hP, _, _ = plt.hist(hormone[Patients], color=plot_color[-1, :], bins=np.arange(0, 301, 20), alpha=0.6)\n",
    "plt.ylim([0, 15])\n",
    "plt.ylabel('No. of participants')\n",
    "plt.box(on=True)\n",
    "\n",
    "#Plots legend showing the control and patient colours\n",
    "a = plt.axes([0, 0, 1, 1], visible= False)\n",
    "plt.tight_layout()\n",
    "plt.legend([hC, hP], ['Controls', 'Patients'], loc='upper center', frameon=False)\n",
    "\n",
    "#Shows all graphs\n",
    "plt.show()\n",
    "\n"
   ]
  },
  {
   "cell_type": "markdown",
   "id": "c483ad66",
   "metadata": {},
   "source": [
    "**Step 5:** Congratulations! You've just plotted all the participants data ready for analysis!\n",
    "\n",
    "However, it looks like some of the axis labels might be missing.\n",
    "\n",
    "->>>Identify what you think is missing then go back to the section of code above and add in the axis labels.\n"
   ]
  },
  {
   "cell_type": "markdown",
   "id": "fac3ef28",
   "metadata": {},
   "source": [
    "**Step 6:** By plotting the data as histograms, we can visualise the data and easily see that the biggest differences between the control and patient groups are in **BMI** and **8am hormone**.\n",
    "\n",
    "Okay, now we know this. But if we look closer at this data can we learn more? \n",
    "Are BMI and 8am hormone related in any way? Do they influence each other? \n",
    "\n",
    "If we plot **BMI** v **8am hormone**, maybe we can find out.\n",
    "\n",
    "**Run this section of code...**\n"
   ]
  },
  {
   "cell_type": "code",
   "execution_count": null,
   "id": "d2efc759",
   "metadata": {},
   "outputs": [],
   "source": [
    "#Plot BMI v 8am hormone \n",
    "plt.figure()\n",
    "plt.gca().set_facecolor('w')\n",
    "hC1 = plt.plot(BMI[Controls], hormone[Controls], 'o', markersize=10, \n",
    "                markerfacecolor=plot_color[3], markeredgecolor='w')\n",
    "#HP1 = \n",
    "\n",
    "plt.xlabel('BMI')\n",
    "plt.ylabel('8am hormone')\n",
    "plt.box(True)\n",
    "\n",
    "plt.legend([hC1[0], hP1[0]], ['Controls', 'Patients'], \n",
    "           loc='upper center', bbox_to_anchor=(0.5, 1.15), \n",
    "           ncol=2, frameon=False)\n",
    "plt.show()\n",
    "\n"
   ]
  },
  {
   "cell_type": "markdown",
   "id": "7c4387bd",
   "metadata": {},
   "source": [
    "It looks like only the control data is being plotted\n",
    "\n",
    "**Task:** Plot the patient data on the scatter graph.\n",
    "\n",
    "Look at the section of code below. 'hC1' plots the control data. 'hP1' is the patient data.\n",
    "\n",
    "To plot the patient data, you need to fill in each parameter of hP1 = plt.plot(), where each parameter means:\n",
    "\n",
    "plt.plot(x data, y data, shape of data point, size of data point, colour of data point, colour of the edge of data point)\n",
    "\n",
    "(The colour purple is the number '-1')"
   ]
  },
  {
   "cell_type": "markdown",
   "id": "81a9ebe6",
   "metadata": {},
   "source": [
    "**Step 7:** Now you have plotted the patient data, what do you think of this plot? How would you describe the data? Are the clusters distinct? Would you confidently be able to say a participant has the disease or not? Discuss this with the class and see how we could improve the plot."
   ]
  },
  {
   "cell_type": "markdown",
   "id": "8e7f9a2c",
   "metadata": {},
   "source": [
    "# Task 2"
   ]
  },
  {
   "cell_type": "markdown",
   "id": "6046819c",
   "metadata": {},
   "source": [
    "In this task we will look at what steps we can take to improve the outcomes of the analysis, so we can confidently distinguish between control participants and patients, so Doctors may use this information when deciding if a patient might have the disease or not.\n",
    "\n",
    "One step we can take is to improve the actual data we have.\n",
    "\n",
    "BMI is a fixed value, and while a persons weight may change over weeks or months, it won't change in the short term.\n",
    "However, the hormone value was taken at 8am, but hormones levels change over the course of the day, so the value at 8am may not be representative of the patients actual hormone levels.\n",
    "\n",
    "In this case we can improve our data by looking at the hormone levels over 24 hours, rather than at one time point."
   ]
  },
  {
   "cell_type": "markdown",
   "id": "e16b80e1",
   "metadata": {},
   "source": [
    "**Step 8:** We will pick 4 examples to look at: 2 'normal' data points, and 2 outliers.\n",
    "\n",
    "Run the code below to see which data points we will use.\n",
    "\n",
    "->>> First, add in the new data which contains the new hormone profiles: \"Hormone_profiles.csv\"\n",
    "\n",
    "**Run this section of code...**"
   ]
  },
  {
   "cell_type": "code",
   "execution_count": null,
   "id": "ed8f80fa",
   "metadata": {},
   "outputs": [],
   "source": [
    "profiles = pd.read_csv('ENTER DATA FILE').to_numpy()\n",
    "\n",
    "\n",
    "partC = [21, 11]\n",
    "partP = [65, 70]  # partP = [50, 71]\n",
    "\n",
    "plt.figure()\n",
    "plt.gcf().set_facecolor('w')\n",
    "\n",
    "hC1 = plt.plot(BMI[Controls], hormone[Controls], 'o', markersize=10, markerfacecolor=plot_color[3, :], markeredgecolor='w')\n",
    "hP1 = plt.plot(BMI[Patients], hormone[Patients], 'o', markersize=10, markerfacecolor=plot_color[-1, :], markeredgecolor='w')\n",
    "\n",
    "sel = partC + partP\n",
    "\n",
    "plt.plot(BMI[partC[0]], hormone[partC[0]], 's', markersize=15, markeredgecolor=colorplot[0, :], linewidth=2.5)\n",
    "plt.plot(BMI[partC[1]], hormone[partC[1]], 's', markersize=15, markeredgecolor=colorplot[1, :], linewidth=2.5)\n",
    "plt.plot(BMI[partP[0]], hormone[partP[0]], 's', markersize=15, markeredgecolor=colorplot[2, :], linewidth=2.5)\n",
    "plt.plot(BMI[partP[1]], hormone[partP[1]], 's', markersize=15, markeredgecolor=colorplot[3, :], linewidth=2.5)\n",
    "\n",
    "plt.xlabel('BMI')\n",
    "plt.ylabel('8am hormone')\n",
    "plt.box(True)\n"
   ]
  },
  {
   "cell_type": "markdown",
   "id": "110e75c5",
   "metadata": {},
   "source": [
    "**Step 9:** We will now plot the 24 hour hormone profiles for the 4 data points; 2 control and 2 patient.\n",
    "\n",
    "**Run this section of code...**"
   ]
  },
  {
   "cell_type": "code",
   "execution_count": null,
   "id": "51a7e001",
   "metadata": {},
   "outputs": [],
   "source": [
    "plt.figure()\n",
    "\n",
    "plt.subplot(2, 2, 1)\n",
    "\n",
    "plt.title('Participant - control')\n",
    "plt.plot(profiles[partC[0], :], linewidth=1, color=colorplot[0, :])\n",
    "plt.plot(8, profiles[partC[0], 8], 's', markersize=10, markerfacecolor='r', markeredgecolor='r')\n",
    "plt.xlim([1, 24])\n",
    "plt.xlabel('Time (hour)')\n",
    "plt.ylim([0, 300])\n",
    "plt.ylabel('Hormone profile (muM)')\n",
    "plt.box(True)\n",
    "\n",
    "plt.subplot(2, 2, 2)\n",
    "\n",
    "plt.title('Participant - patient')\n",
    "plt.plot(profiles[partP[0], :], linewidth=1, color=colorplot[2, :])\n",
    "plt.plot(8, profiles[partP[0], 8], 's', markersize=10, markerfacecolor='r', markeredgecolor='r')\n",
    "plt.xlim([1, 24])\n",
    "plt.xlabel('Time (hour)')\n",
    "plt.ylim([0, 300])\n",
    "plt.ylabel('Hormone profile (muM)')\n",
    "plt.box(True)\n",
    "\n",
    "plt.subplot(2, 2, 3)\n",
    "\n",
    "plt.title('Participant - control')\n",
    "plt.plot(profiles[partC[1], :], linewidth=1, color=colorplot[1, :])\n",
    "plt.plot(8, profiles[partC[1], 8], 's', markersize=10, markerfacecolor='r', markeredgecolor='r')\n",
    "plt.xlim([1, 24])\n",
    "plt.xlabel('Time (hour)')\n",
    "plt.ylim([0, 300])\n",
    "plt.ylabel('Hormone profile (muM)')\n",
    "plt.box(True)\n",
    "\n",
    "plt.subplot(2, 2, 4)\n",
    "\n",
    "plt.title('Participant - patient')\n",
    "plt.plot(profiles[partP[1], :], linewidth=1, color=colorplot[3, :])\n",
    "plt.plot(8, profiles[partP[1], 8], 's', markersize=10, markerfacecolor='r', markeredgecolor='r')\n",
    "plt.xlim([1, 24])\n",
    "plt.xlabel('Time (hour)')\n",
    "plt.ylim([0, 300])\n",
    "plt.ylabel('Hormone profile (muM)')\n",
    "plt.box(True)\n",
    "plt.tight_layout()\n",
    "#plt.legend([hC1, hP1], ['Controls', 'Patients'], orientation='horizontal', bbox_to_anchor=(0.5, 1.05), loc='upper center', frameon=False)\n",
    "plt.show()\n",
    "\n"
   ]
  },
  {
   "cell_type": "markdown",
   "id": "ef9661f2",
   "metadata": {},
   "source": [
    "**Step 10:** Look at these plots, what do they tell you? Compare them to eachother and their corresponding data point on the graph above. Discuss with the class what this might mean\n"
   ]
  },
  {
   "cell_type": "markdown",
   "id": "bc996005",
   "metadata": {},
   "source": [
    "# Task 3\n"
   ]
  },
  {
   "cell_type": "markdown",
   "id": "1fff317d",
   "metadata": {},
   "source": [
    "To analyse and compare the 24 hour hormone profiles, we want to know what the total hormone level is over the whole day. That way we can reliably compare participant hormone levels.\n",
    "\n",
    "**Step 11:** To find out the total hormone level, we measure the *area under the curve*.\n",
    "To do this we sum all the data points over the 24 hours.\n",
    "\n",
    "The code below calculates the area under the curve for each graph, but does not print the values.\n",
    "\n",
    "To print the values add \"print(\"Area under the curve for Control 1 =\" AUC_partC1)\"\n",
    "\n",
    "Repeat this for all other values, then **Run this section of code...**"
   ]
  },
  {
   "cell_type": "code",
   "execution_count": null,
   "id": "4da6d9b0",
   "metadata": {},
   "outputs": [],
   "source": [
    "AUC_partC1 = np.sum(profiles[partC[0], :])\n",
    "AUC_partC2 = np.sum(profiles[partC[1], :])\n",
    "AUC_partP1 = np.sum(profiles[partP[0], :])\n",
    "AUC_partP2 = np.sum(profiles[partP[1], :])\n"
   ]
  },
  {
   "cell_type": "markdown",
   "id": "2f970af0",
   "metadata": {},
   "source": [
    "**Step 12:** What do these values show us compared to the original hormone values? Do they change how we view the participant?\n"
   ]
  },
  {
   "cell_type": "markdown",
   "id": "2e162a11",
   "metadata": {},
   "source": [
    "**Step 13:** Now we have shown how the area under the curve can be calucalted for 4 examples, we can now quickly do this for all data points and replot the **BMI** v **Hormone** plot with 24 hour values.\n",
    "\n",
    "**Task:** To calculate the area uner the curve for all data points, we need to add this line to the start of the code:\n",
    "\n",
    "\"AUC = np.sum(profiles, axis=1)\"\n",
    "\n",
    "Can you understand what this line of code is doing?\n",
    "**Run this section of code...**"
   ]
  },
  {
   "cell_type": "code",
   "execution_count": null,
   "id": "5aa26ae4",
   "metadata": {},
   "outputs": [],
   "source": [
    "plt.figure()\n",
    "plt.gca().set_facecolor('w')\n",
    "hC2 = plt.plot(BMI[Controls], AUC[Controls], 'o', markersize=10, markerfacecolor=plot_color[3, :], markeredgecolor='w')\n",
    "hP2 = plt.plot(BMI[Patients], AUC[Patients], 'o', markersize=10, markerfacecolor=plot_color[-1, :], markeredgecolor='w')\n",
    "plt.xlabel('BMI')\n",
    "plt.ylabel('AUC')\n",
    "\n",
    "for i in range(len(sel)):\n",
    "    plt.plot(BMI[sel[i]], AUC[sel[i]], 's', markersize=15, markeredgecolor=colorplot[i, :], linewidth=2.5)\n",
    "\n",
    "plt.box(True)\n",
    "#plt.legend([hC2[0], hP2[0]], ['Controls', 'Patients'], loc='northoutside', ncol=2, frameon=False)\n",
    "plt.show()\n",
    "\n"
   ]
  },
  {
   "cell_type": "markdown",
   "id": "46da5a06",
   "metadata": {},
   "source": [
    "**Step 13:** What do you notice about this graph now compared to the original graph? "
   ]
  },
  {
   "cell_type": "markdown",
   "id": "94b07a30",
   "metadata": {},
   "source": [
    "# Task 4\n"
   ]
  },
  {
   "cell_type": "markdown",
   "id": "ae03931a",
   "metadata": {},
   "source": [
    "Now we have been able to show the distinct cluster of control participants and patients, it's time to test how confident we feel about our results with 2 unknown participants.\n",
    "\n",
    "**Step 14:** We will run this next section of code to see what the new participants hormone profiles look like, and where they sit on the graph. In this task you need to load in the data file, and assign the correct columns to \"New_BMI\" and \"New_profile\" (hormone profile).\n",
    "\n",
    "- Add in the data file for the new individuals \"New_individuals.csv\"\n",
    "- Identify which column is BMI and hormones in \"New_individuals.csv\" (Remember, in Python the first number is always 0!)\n",
    "- Add in the New_BMI and New_profile values; New_BMI = New_individuals[ , ], New_profile = New_individuals[ , ]\n",
    "- You want all rows in the BMI column. Can you remember how to write \"all rows\"?\n",
    "\n",
    "*Hint: you can look back at previously blocks of code to see what this should look like*\n",
    "\n",
    "\n",
    "Then **Run this section of code...**"
   ]
  },
  {
   "cell_type": "code",
   "execution_count": null,
   "id": "ab92871f",
   "metadata": {
    "scrolled": false
   },
   "outputs": [],
   "source": [
    "\n",
    "New_individuals = pd.read_csv('ENTER DATA FILE').to_numpy()\n",
    "\n",
    "New_BMI = \n",
    "New_individuals = \n",
    "New_AUC = New_profile.sum(axis=1)\n",
    "\n",
    "plt.figure()\n",
    "plt.gcf().set_facecolor('w')\n",
    "\n",
    "plt.subplot(1, 2, 1)\n",
    "plt.plot(New_profile[0, :], linewidth=1, color=colorplot[0, :])\n",
    "plt.plot(New_profile[1, :], linewidth=1, color=colorplot[1, :])\n",
    "plt.xlim([1, 24])\n",
    "plt.xlabel('Time (hour)')\n",
    "plt.ylim([0, 150])\n",
    "plt.ylabel('Hormone profile (muM)')\n",
    "plt.box(True)\n",
    "\n",
    "plt.subplot(1, 2, 2)\n",
    "hC1 = plt.plot(BMI[Controls], AUC[Controls], 'o', markersize=10, markerfacecolor=plot_color[3, :], markeredgecolor='w')\n",
    "hP1 = plt.plot(BMI[Patients], AUC[Patients], 'o', markersize=10, markerfacecolor=plot_color[-1, :], markeredgecolor='w')\n",
    "plt.plot(New_BMI[0], New_AUC[0], 's', markersize=15, markerfacecolor=colorplot[0, :], markeredgecolor=colorplot[0, :], linewidth=2.5)\n",
    "plt.plot(New_BMI[1], New_AUC[1], 's', markersize=15, markerfacecolor=colorplot[1, :], markeredgecolor=colorplot[1, :], linewidth=2.5)\n",
    "plt.xlabel('BMI')\n",
    "plt.ylabel('AUC')\n",
    "plt.box(True)\n",
    "plt.tight_layout()\n",
    "plt.show()"
   ]
  },
  {
   "cell_type": "markdown",
   "id": "241d2b58",
   "metadata": {},
   "source": [
    "**Step 15:** Look at the hormone profiles of the 2 new individuals, and where they sit on the graph. Would you confidently be able to say if one is a control participant or if one has disease? Discuss this with the class."
   ]
  },
  {
   "cell_type": "markdown",
   "id": "ac881bb7",
   "metadata": {},
   "source": [
    "# Task 5"
   ]
  },
  {
   "cell_type": "markdown",
   "id": "5ccc7042",
   "metadata": {},
   "source": [
    "To help us have a definitive answer of whether these new individuals are either control or patient participants, we need a way to competely separate the two clusters...by drawing a line between the two that acts as a boundary. Anything above the line is patient, anything below the line is control.\n",
    "\n",
    "But we cant just draw a line based on nothing. We can use a clever algorithm that draws a line based on the data, so we know the line is the most accurate and representative boundary based on our data.\n",
    "\n",
    "This algorithm is called a **Support Vector Machine**\n",
    "\n",
    "**Run the section of code below...**"
   ]
  },
  {
   "cell_type": "code",
   "execution_count": null,
   "id": "309aabdb",
   "metadata": {},
   "outputs": [],
   "source": [
    "%matplotlib notebook\n",
    "# Assuming BMI, AUC, condition, Controls, Patients, plot_color, New_BMI, New_AUC, colorplot are defined\n",
    "\n",
    "# Fit SVM model\n",
    "SVMModel = SVC(kernel='linear').fit(np.column_stack((BMI, AUC)), condition)\n",
    "sv = SVMModel.support_vectors_\n",
    "beta = SVMModel.coef_[0]\n",
    "b = SVMModel.intercept_[0]\n",
    "\n",
    "X1 = np.linspace(np.min(BMI), np.max(BMI), 100)\n",
    "X2 = -(beta[0] / beta[1] * X1) - b / beta[1]\n",
    "\n",
    "plt.figure()\n",
    "plt.gca().set_facecolor('w')\n",
    "hC4 = plt.plot(BMI[Controls], AUC[Controls], 'o', markersize=10, \n",
    "               markerfacecolor=plot_color[3, :], markeredgecolor='w')\n",
    "hP4 = plt.plot(BMI[Patients], AUC[Patients], 'o', markersize=10, \n",
    "               markerfacecolor=plot_color[-1, :], markeredgecolor='w')\n",
    "plt.plot(X1, X2, '-', linewidth=2, color='k')\n",
    "plt.plot(New_BMI[0], New_AUC[0], 's', markersize=15, \n",
    "         markerfacecolor=colorplot[0, :], markeredgecolor=colorplot[0, :], linewidth=2.5)\n",
    "plt.plot(New_BMI[1], New_AUC[1], 's', markersize=15, \n",
    "         markerfacecolor=colorplot[1, :], markeredgecolor=colorplot[1, :], linewidth=2.5)\n",
    "\n",
    "plt.xlabel('BMI')\n",
    "plt.ylabel('AUC')\n",
    "plt.box(True)\n",
    "\n",
    "#plt.legend([hC4[0], hP4[0]], ['Controls', 'Patients'], \n",
    " #          orientation='horizontal', frameon=False, loc='upper center')\n",
    "plt.show()"
   ]
  },
  {
   "cell_type": "markdown",
   "id": "9e963cf4",
   "metadata": {},
   "source": [
    "**Step 16:** Now we have used the SVM algorithm to separate the clusters with a line, are you now able to confidently say wheteher these 2 individuals are a control participant or patient?"
   ]
  },
  {
   "cell_type": "code",
   "execution_count": null,
   "id": "b9585269",
   "metadata": {},
   "outputs": [],
   "source": []
  },
  {
   "cell_type": "code",
   "execution_count": null,
   "id": "4ad5c65b",
   "metadata": {},
   "outputs": [],
   "source": []
  },
  {
   "cell_type": "code",
   "execution_count": null,
   "id": "ddf61229",
   "metadata": {},
   "outputs": [],
   "source": []
  },
  {
   "cell_type": "code",
   "execution_count": null,
   "id": "cb732f46",
   "metadata": {},
   "outputs": [],
   "source": []
  },
  {
   "cell_type": "code",
   "execution_count": null,
   "id": "53cf05fc",
   "metadata": {},
   "outputs": [],
   "source": []
  },
  {
   "cell_type": "code",
   "execution_count": null,
   "id": "4449f167",
   "metadata": {},
   "outputs": [],
   "source": []
  },
  {
   "cell_type": "code",
   "execution_count": null,
   "id": "c12d8186",
   "metadata": {},
   "outputs": [],
   "source": []
  }
 ],
 "metadata": {
  "kernelspec": {
   "display_name": "Python 3 (ipykernel)",
   "language": "python",
   "name": "python3"
  },
  "language_info": {
   "codemirror_mode": {
    "name": "ipython",
    "version": 3
   },
   "file_extension": ".py",
   "mimetype": "text/x-python",
   "name": "python",
   "nbconvert_exporter": "python",
   "pygments_lexer": "ipython3",
   "version": "3.10.11"
  }
 },
 "nbformat": 4,
 "nbformat_minor": 5
}
